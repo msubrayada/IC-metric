{
 "cells": [
  {
   "cell_type": "code",
   "execution_count": 1,
   "metadata": {},
   "outputs": [],
   "source": [
    "import json\n",
    "import numpy as np\n",
    "import matplotlib.pyplot as plt\n",
    "from scipy import stats\n",
    "from PIL import Image\n",
    "import time"
   ]
  },
  {
   "cell_type": "code",
   "execution_count": 2,
   "metadata": {},
   "outputs": [],
   "source": [
    "def get_data(file_name):\n",
    "    with open(file_name) as f:\n",
    "        data = json.load(f)\n",
    "    img_names = [[dt['id'], dt['file_name']] for dt in data['images']]\n",
    "    imgToAnns = {ann['image_id']: [] for ann in data['annotations']}    \n",
    "    for ann in data['annotations']:\n",
    "        ann['caption'] = pre_process_text(ann['caption'])        \n",
    "        imgToAnns[ann['image_id']] += [ann]                \n",
    "    return img_names, imgToAnns\n",
    "\n",
    "\n",
    "def pre_process_text(text):\n",
    "    forbiden_char = \"?.;:!,$#%/'()[]0123456789=´+-&@`\" + '\"'\n",
    "    text = text.lower()\n",
    "    text = \"\".join(u for u in text if u not in forbiden_char)\n",
    "    return text"
   ]
  },
  {
   "cell_type": "code",
   "execution_count": 26,
   "metadata": {},
   "outputs": [],
   "source": [
    "with open(\"D_L_prediccion_h1_shf_100_pred_captions.json\") as f:\n",
    "    scores_1 = json.load(f)\n",
    "with open(\"D_L_prediccion_h1_shf_50_pred_captions.json\") as f:\n",
    "    scores_2 = json.load(f)\n",
    "with open(\"D_L_prediccion_h1_shf_25_pred_captions.json\") as f:\n",
    "    scores_3 = json.load(f)\n",
    "with open(\"D_L_val_1_vs_rest_true_captions.json\") as f:    \n",
    "    scores_h1 = json.load(f)"
   ]
  },
  {
   "cell_type": "code",
   "execution_count": 27,
   "metadata": {},
   "outputs": [],
   "source": [
    "def get_scores(scores):\n",
    "    S = np.zeros((5000, 4))\n",
    "    i = 0\n",
    "    for s in zip(scores[\"dist_c1\"],scores[\"dist_c2\"],scores[\"dist_c3\"],scores[\"dist_c4\"]):    \n",
    "        S[i] = np.array([scores[\"dist_c1\"][s[0]],scores[\"dist_c2\"][s[1]],scores[\"dist_c3\"][s[2]],scores[\"dist_c4\"][s[3]]])\n",
    "        i += 1\n",
    "    return S"
   ]
  },
  {
   "cell_type": "code",
   "execution_count": 28,
   "metadata": {},
   "outputs": [],
   "source": [
    "scores_1 = get_scores(scores_1)\n",
    "scores_2 = get_scores(scores_2)\n",
    "scores_3 = get_scores(scores_3)\n",
    "scores_h1 = get_scores(scores_h1)"
   ]
  },
  {
   "cell_type": "code",
   "execution_count": 33,
   "metadata": {},
   "outputs": [],
   "source": [
    "scores_1 = np.max(scores_1, axis=1)\n",
    "scores_2 = np.max(scores_2, axis=1)\n",
    "scores_3 = np.max(scores_3, axis=1)\n",
    "scores_h1 = np.max(scores_h1, axis=1)"
   ]
  },
  {
   "cell_type": "code",
   "execution_count": 34,
   "metadata": {},
   "outputs": [
    {
     "name": "stdout",
     "output_type": "stream",
     "text": [
      "0.6800308745117399\n",
      "0.6832912796925801\n",
      "0.70230845614382\n",
      "0.7252681475799599\n"
     ]
    }
   ],
   "source": [
    "print(np.mean(scores_1))\n",
    "print(np.mean(scores_2))\n",
    "print(np.mean(scores_3))\n",
    "print(np.mean(scores_h1))"
   ]
  },
  {
   "cell_type": "code",
   "execution_count": 52,
   "metadata": {},
   "outputs": [],
   "source": [
    "def combine_scores(scores_list):\n",
    "    n = len(scores_list[0])\n",
    "    l = len(scores_list)\n",
    "    skip = n // l\n",
    "    scores = np.zeros_like(scores_list[0])\n",
    "    order = np.zeros((n))\n",
    "    for i in range(0, n, skip):\n",
    "        if (i+skip>n):\n",
    "            break\n",
    "        scores[i: i + skip] = scores_list[i//skip][i: i + skip]\n",
    "        order[i: i + skip] = i // skip\n",
    "    return scores, order\n",
    "\n",
    "def combine_scores_full(scores_list):\n",
    "    n = len(scores_list[0])\n",
    "    l = len(scores_list)\n",
    "    scores = np.concatenate(scores_list)\n",
    "    order = np.zeros_like(scores)    \n",
    "    for i in range(l):        \n",
    "        order[i*n: (i + 1)*n] = i \n",
    "    return scores, order\n",
    "\n",
    "def plot(new_order, file_name, series_names):\n",
    "    q0 = np.where(np.array(new_order)==0)\n",
    "    q1 = np.where(np.array(new_order)==1)\n",
    "    q2 = np.where(np.array(new_order)==2)\n",
    "    q3 = np.where(np.array(new_order)==3)\n",
    "\n",
    "    fig, ax = plt.subplots(figsize=(10,4))\n",
    "\n",
    "    ax.hist(q0, 20, alpha=1, histtype=\"bar\", linewidth=5, label=series_names[0], color='#440154')\n",
    "    ax.hist(q1, 20, histtype=\"step\", linewidth=2, label=series_names[1], color='#31688e')\n",
    "    ax.hist(q2, 20, histtype=\"step\", linewidth=2, label=series_names[2], color='#35b779')\n",
    "    ax.hist(q3, 20, alpha=.9, histtype=\"bar\", linewidth=5, label=series_names[3], color='#ded70b')\n",
    "    ax.legend()\n",
    "    plt.savefig('imgs/' + file_name, dpi=800)\n",
    "    plt.show()"
   ]
  },
  {
   "cell_type": "code",
   "execution_count": 44,
   "metadata": {},
   "outputs": [
    {
     "data": {
      "image/png": "[encoded data removed]",
      "text/plain": [
       "<Figure size 720x288 with 1 Axes>"
      ]
     },
     "metadata": {
      "needs_background": "light"
     },
     "output_type": "display_data"
    }
   ],
   "source": [
    "scores, order = combine_scores_full([scores_1,\n",
    "                                     scores_2, \n",
    "                                     scores_3,\n",
    "                                     scores_h1])\n",
    "new_order = sorted(zip(scores, order))\n",
    "new_order = [p[1] for p in new_order]\n",
    "plot(new_order, \"shf-D_L.pdf\", [\"Shuffle all\", \"Shuffle 50%\", \"Shuffle 25%\", \"Humans\"])"
   ]
  },
  {
   "cell_type": "code",
   "execution_count": 40,
   "metadata": {},
   "outputs": [
    {
     "data": {
      "text/plain": [
       "SpearmanrResult(correlation=0.1362, pvalue=2.014194576755618e-83)"
      ]
     },
     "execution_count": 40,
     "metadata": {},
     "output_type": "execute_result"
    }
   ],
   "source": [
    "stats.spearmanr(order, new_order)"
   ]
  },
  {
   "cell_type": "code",
   "execution_count": 46,
   "metadata": {},
   "outputs": [],
   "source": [
    "with open(\"D_L_prediccion_h1_rnd_pred_captions.json\") as f:\n",
    "    scores_1 = json.load(f)\n",
    "with open(\"D_L_prediccion_h1_rnd_50_pred_captions.json\") as f:\n",
    "    scores_2 = json.load(f)\n",
    "with open(\"D_L_prediccion_h1_rnd_25_pred_captions.json\") as f:\n",
    "    scores_3 = json.load(f)\n",
    "with open(\"D_L_val_1_vs_rest_true_captions.json\") as f:    \n",
    "    scores_h1 = json.load(f)"
   ]
  },
  {
   "cell_type": "code",
   "execution_count": 47,
   "metadata": {},
   "outputs": [],
   "source": [
    "scores_1 = get_scores(scores_1)\n",
    "scores_2 = get_scores(scores_2)\n",
    "scores_3 = get_scores(scores_3)\n",
    "scores_h1 = get_scores(scores_h1)"
   ]
  },
  {
   "cell_type": "code",
   "execution_count": 48,
   "metadata": {},
   "outputs": [],
   "source": [
    "scores_1 = np.max(scores_1, axis=1)\n",
    "scores_2 = np.max(scores_2, axis=1)\n",
    "scores_3 = np.max(scores_3, axis=1)\n",
    "scores_h1 = np.max(scores_h1, axis=1)"
   ]
  },
  {
   "cell_type": "code",
   "execution_count": 49,
   "metadata": {},
   "outputs": [
    {
     "name": "stdout",
     "output_type": "stream",
     "text": [
      "0.14606556553082\n",
      "0.39612616840012\n",
      "0.54839956009654\n",
      "0.7252681475799599\n"
     ]
    }
   ],
   "source": [
    "print(np.mean(scores_1))\n",
    "print(np.mean(scores_2))\n",
    "print(np.mean(scores_3))\n",
    "print(np.mean(scores_h1))"
   ]
  },
  {
   "cell_type": "code",
   "execution_count": 53,
   "metadata": {},
   "outputs": [
    {
     "data": {
      "image/png": "[encoded data removed]",
      "text/plain": [
       "<Figure size 720x288 with 1 Axes>"
      ]
     },
     "metadata": {
      "needs_background": "light"
     },
     "output_type": "display_data"
    }
   ],
   "source": [
    "scores, order = combine_scores_full([scores_1,\n",
    "                                     scores_2, \n",
    "                                     scores_3,\n",
    "                                     scores_h1])\n",
    "new_order = sorted(zip(scores, order))\n",
    "new_order = [p[1] for p in new_order]\n",
    "plot(new_order, \"rnd-D_L.pdf\", [\"Random\", \"Random 50%\", \"Random 25%\", \"Humans\"])"
   ]
  },
  {
   "cell_type": "code",
   "execution_count": 51,
   "metadata": {},
   "outputs": [
    {
     "data": {
      "text/plain": [
       "SpearmanrResult(correlation=0.79804, pvalue=0.0)"
      ]
     },
     "execution_count": 51,
     "metadata": {},
     "output_type": "execute_result"
    }
   ],
   "source": [
    "stats.spearmanr(order, new_order)"
   ]
  },
  {
   "cell_type": "code",
   "execution_count": null,
   "metadata": {},
   "outputs": [],
   "source": []
  }
 ],
 "metadata": {
  "kernelspec": {
   "display_name": "clip",
   "language": "python",
   "name": "clip"
  },
  "language_info": {
   "codemirror_mode": {
    "name": "ipython",
    "version": 3
   },
   "file_extension": ".py",
   "mimetype": "text/x-python",
   "name": "python",
   "nbconvert_exporter": "python",
   "pygments_lexer": "ipython3",
   "version": "3.8.11"
  }
 },
 "nbformat": 4,
 "nbformat_minor": 5
}
